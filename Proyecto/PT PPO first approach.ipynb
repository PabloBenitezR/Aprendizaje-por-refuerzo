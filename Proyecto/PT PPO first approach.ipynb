{
 "cells": [
  {
   "cell_type": "code",
   "execution_count": 1,
   "id": "83d7e258",
   "metadata": {},
   "outputs": [],
   "source": [
    "import gymnasium as gym\n",
    "import torch\n",
    "import torch.nn as nn\n",
    "import numpy as np\n",
    "from torch.distributions import Categorical\n",
    "import matplotlib.pyplot as plt"
   ]
  },
  {
   "cell_type": "code",
   "execution_count": 2,
   "id": "276ed523",
   "metadata": {},
   "outputs": [],
   "source": [
    "\n",
    "class PPO_PT(nn.Module):\n",
    "    def __init__(self, obs_dim, act_dim):\n",
    "        super().__init__()\n",
    "        self.fc = nn.Sequential(\n",
    "            nn.Linear(obs_dim, 64),\n",
    "            nn.Tanh(),\n",
    "            nn.Linear(64, 64),\n",
    "            nn.Tanh(),\n",
    "            nn.Linear(64, act_dim),\n",
    "        )\n",
    "\n",
    "    def forward(self, x):\n",
    "        return self.fc(x)\n",
    "\n",
    "    def act(self, obs):\n",
    "        logits = self.forward(obs)\n",
    "        dist = Categorical(logits=logits)\n",
    "        action = dist.sample()\n",
    "        return action.item(), dist.log_prob(action), dist.entropy()\n",
    "\n",
    "def evaluate_policy(env, policy, episodes=5):\n",
    "    rewards_obj1, rewards_obj2 = [], []\n",
    "\n",
    "    for _ in range(episodes):\n",
    "        obs = env.reset()[0]\n",
    "        total_r1, total_r2 = 0, 0\n",
    "        done = False\n",
    "        while not done:\n",
    "            obs_tensor = torch.tensor(obs, dtype=torch.float32)\n",
    "            action, _, _ = policy.act(obs_tensor)\n",
    "            obs, reward, terminated, truncated, _ = env.step(action)\n",
    "            done = terminated or truncated\n",
    "\n",
    "            total_r1 += 1\n",
    "            \n",
    "            total_r2 -= int(action != 0)\n",
    "\n",
    "        rewards_obj1.append(total_r1)\n",
    "        rewards_obj2.append(total_r2)\n",
    "\n",
    "    return np.mean(rewards_obj1), np.mean(rewards_obj2)"
   ]
  },
  {
   "cell_type": "code",
   "execution_count": 3,
   "id": "aa835e04",
   "metadata": {},
   "outputs": [],
   "source": [
    "# Predictor\n",
    "def predictor_step(theta_prev, theta_curr, h=0.05):\n",
    "    direction = theta_curr - theta_prev\n",
    "    norm = np.linalg.norm(direction)\n",
    "    return theta_curr + h * direction / (norm + 1e-8)"
   ]
  },
  {
   "cell_type": "code",
   "execution_count": 4,
   "id": "86c648ab",
   "metadata": {},
   "outputs": [],
   "source": [
    "# Corrector\n",
    "def corrector_step(policy, env, weights, lr=1e-3, epochs=5):\n",
    "    optimizer = torch.optim.Adam(policy.parameters(), lr=lr)\n",
    "    gamma = 0.99\n",
    "\n",
    "    for _ in range(epochs):\n",
    "        log_probs, rewards1, rewards2 = [], [], []\n",
    "        obs = env.reset()[0]\n",
    "        done = False\n",
    "        while not done:\n",
    "            obs_tensor = torch.tensor(obs, dtype=torch.float32)\n",
    "            action, logp, _ = policy.act(obs_tensor)\n",
    "            obs, reward, terminated, truncated, _ = env.step(action)\n",
    "            done = terminated or truncated\n",
    "\n",
    "            log_probs.append(logp)\n",
    "            rewards1.append(1)  \n",
    "            rewards2.append(-int(action != 0))  \n",
    "\n",
    "        # Escalarización\n",
    "        R = weights[0] * sum(rewards1) + weights[1] * sum(rewards2)\n",
    "        loss = -torch.stack(log_probs).sum() * R\n",
    "        optimizer.zero_grad()\n",
    "        loss.backward()\n",
    "        optimizer.step()\n",
    "\n",
    "    return policy"
   ]
  },
  {
   "cell_type": "code",
   "execution_count": null,
   "id": "a94e4cd1",
   "metadata": {},
   "outputs": [
    {
     "name": "stdout",
     "output_type": "stream",
     "text": [
      "Predicción de siguiente punto en espacio de políticas: [ 0.01077114 -0.37532043  0.2961777   0.3760385   0.19178525] ...\n",
      "Predicción de siguiente punto en espacio de políticas: [-0.04358376 -0.41466117 -0.18153918 -0.44915238 -0.31863138] ...\n",
      "Predicción de siguiente punto en espacio de políticas: [ 0.30320185  0.13759929  0.05108722 -0.0083406  -0.3153256 ] ...\n",
      "\n",
      "Frente aproximado:\n",
      "[15.6, -5.2]\n",
      "[25.8, -13.8]\n",
      "[19.0, -8.0]\n",
      "[14.2, -6.6]\n"
     ]
    }
   ],
   "source": [
    "if __name__ == \"__main__\":\n",
    "    env = gym.make(\"CartPole-v1\")\n",
    "    obs_dim = env.observation_space.shape[0]\n",
    "    act_dim = env.action_space.n\n",
    "\n",
    "    weights = [[1.0, 0.0], [0.8, 0.2], [0.5, 0.5], [0.2, 0.8]]  \n",
    "    pareto_policies = []\n",
    "    reward_vectors = []\n",
    "\n",
    "    theta_prev = None\n",
    "\n",
    "    for w in weights:\n",
    "        policy = PPO_PT(obs_dim, act_dim)\n",
    "        policy = corrector_step(policy, env, w)\n",
    "\n",
    "        r1, r2 = evaluate_policy(env, policy)\n",
    "        reward_vectors.append([r1, r2])\n",
    "        pareto_policies.append(policy)\n",
    "\n",
    "        if theta_prev is not None:\n",
    "            theta_curr = np.concatenate([p.data.cpu().numpy().flatten() for p in policy.parameters()])\n",
    "            theta_pred = predictor_step(theta_prev, theta_curr)\n",
    "            print(\"Prediction:\", theta_pred[:5], \"...\")\n",
    "        theta_prev = np.concatenate([p.data.cpu().numpy().flatten() for p in policy.parameters()])\n",
    "\n",
    "    print(\"\\nAproximation of Pareto Front:\")\n",
    "    for r in reward_vectors:\n",
    "        print(r)\n"
   ]
  },
  {
   "cell_type": "code",
   "execution_count": null,
   "id": "347e7466",
   "metadata": {},
   "outputs": [
    {
     "data": {
      "image/png": "[encoded data removed]",
      "text/plain": [
       "<Figure size 600x400 with 1 Axes>"
      ]
     },
     "metadata": {},
     "output_type": "display_data"
    }
   ],
   "source": [
    "import matplotlib.pyplot as plt\n",
    "points = [\n",
    "(15.6, -5.2),\n",
    "(25.8, -13.8),\n",
    "(19.0, -8.0),\n",
    "(14.2, -6.6)\n",
    "]\n",
    "xs, ys = zip(*points)\n",
    "\n",
    "plt.figure(figsize=(6, 4))\n",
    "plt.plot(xs, ys, '-o', linewidth=2, markersize=8)\n",
    "for x, y in points:\n",
    "    plt.text(x, y, f'({x}, {y})', fontsize=9, ha='right')\n",
    "plt.title('Aproximation of Pareto Front')\n",
    "plt.xlabel('Obj 1')\n",
    "plt.ylabel('Obj 2')\n",
    "plt.grid(True)\n",
    "plt.tight_layout()\n",
    "plt.show()\n"
   ]
  }
 ],
 "metadata": {
  "kernelspec": {
   "display_name": "Python 3",
   "language": "python",
   "name": "python3"
  },
  "language_info": {
   "codemirror_mode": {
    "name": "ipython",
    "version": 3
   },
   "file_extension": ".py",
   "mimetype": "text/x-python",
   "name": "python",
   "nbconvert_exporter": "python",
   "pygments_lexer": "ipython3",
   "version": "3.11.5"
  }
 },
 "nbformat": 4,
 "nbformat_minor": 5
}
