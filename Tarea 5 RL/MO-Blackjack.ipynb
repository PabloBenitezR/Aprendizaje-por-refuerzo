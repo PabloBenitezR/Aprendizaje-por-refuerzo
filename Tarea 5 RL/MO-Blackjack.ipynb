{
 "cells": [
  {
   "cell_type": "code",
   "execution_count": 2,
   "id": "5c33d538",
   "metadata": {},
   "outputs": [],
   "source": [
    "import numpy as np\n",
    "import gymnasium as gym"
   ]
  },
  {
   "cell_type": "code",
   "execution_count": 3,
   "id": "48bd8afb",
   "metadata": {},
   "outputs": [],
   "source": [
    "#\n",
    "class MO_Blackjack(gym.Wrapper):\n",
    "    def __init__(self, env):\n",
    "        super().__init__(env)\n",
    "        # se definen dos objetivos (victoria y derrota)\n",
    "        self.reward_space = gym.spaces.Box(\n",
    "            low=0.0, high=1.0, shape=(2,), dtype=np.float32\n",
    "    )\n",
    "\n",
    "\n",
    "    def step(self, action):\n",
    "        obs, r, fin, trunco, info = super().step(action)\n",
    "        # r de +1, 0 o -1\n",
    "        win = 1.0 if r == 1 else 0.0\n",
    "        lose = 1.0 if r == -1 else 0.0\n",
    "        vec_r = np.array([win, lose], dtype=np.float32)\n",
    "\n",
    "        return obs, vec_r, fin, trunco, info \n",
    "    \n",
    "    def reset(self, **kwargs):\n",
    "        return super().reset(**kwargs)"
   ]
  },
  {
   "cell_type": "code",
   "execution_count": 4,
   "id": "f88d52ca",
   "metadata": {},
   "outputs": [
    {
     "name": "stdout",
     "output_type": "stream",
     "text": [
      "Recompensas vectoriales; [1. 0.]\n"
     ]
    }
   ],
   "source": [
    "env0 = gym.make(\"Blackjack-v1\", sab=False, natural=False)\n",
    "env = MO_Blackjack(env0) \n",
    "\n",
    "obs, _ = env.reset()\n",
    "obs, vec_r, fin, trunco, info = env.step(0)\n",
    "print(\"Recompensas vectoriales;\", vec_r)"
   ]
  }
 ],
 "metadata": {
  "kernelspec": {
   "display_name": "Python 3",
   "language": "python",
   "name": "python3"
  },
  "language_info": {
   "codemirror_mode": {
    "name": "ipython",
    "version": 3
   },
   "file_extension": ".py",
   "mimetype": "text/x-python",
   "name": "python",
   "nbconvert_exporter": "python",
   "pygments_lexer": "ipython3",
   "version": "3.11.5"
  }
 },
 "nbformat": 4,
 "nbformat_minor": 5
}
