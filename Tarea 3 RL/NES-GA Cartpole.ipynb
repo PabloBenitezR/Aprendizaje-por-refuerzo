{
 "cells": [
  {
   "cell_type": "code",
   "execution_count": 5,
   "metadata": {},
   "outputs": [],
   "source": [
    "import gymnasium as gym\n",
    "import ale_py\n",
    "import numpy as np\n",
    "import torch\n",
    "import torch.nn as nn\n",
    "import matplotlib.pyplot as plt\n",
    "import random\n",
    "\n",
    "device = torch.device(\"cuda\" if torch.cuda.is_available() else \"cpu\")\n",
    "\n",
    "# Red simple (MLP) para CartPole\n",
    "class PolicyNet(nn.Module):\n",
    "    def __init__(self, state_dim, action_dim):\n",
    "        super().__init__()\n",
    "        self.net = nn.Sequential(\n",
    "            nn.Linear(state_dim, 16),\n",
    "            nn.ReLU(),\n",
    "            nn.Linear(16, action_dim)\n",
    "        )\n",
    "\n",
    "    def forward(self, x):\n",
    "        return self.net(x)\n",
    "\n",
    "# Evalúa un individuo (sus parámetros) por promedio de episodios\n",
    "def evaluate(params, state_dim, action_dim, episodes=3):\n",
    "    env = gym.make('CartPole-v1')\n",
    "    model = PolicyNet(state_dim, action_dim).to(device)\n",
    "    model.load_state_dict(params)\n",
    "    model.eval()\n",
    "\n",
    "    total_reward = 0\n",
    "    for _ in range(episodes):\n",
    "        obs, _ = env.reset()\n",
    "        done = False\n",
    "        while not done:\n",
    "            state_tensor = torch.FloatTensor(obs).unsqueeze(0).to(device)\n",
    "            with torch.no_grad():\n",
    "                logits = model(state_tensor)\n",
    "            action = torch.argmax(logits).item()\n",
    "            next_obs, reward, terminated, truncated, _ = env.step(action)\n",
    "            done = terminated or truncated\n",
    "            obs = next_obs\n",
    "            total_reward += reward\n",
    "    env.close()\n",
    "    return total_reward / episodes\n",
    "\n",
    "# Cruzamiento (promedio de padres)\n",
    "def crossover(p1, p2):\n",
    "    child = {}\n",
    "    for k in p1:\n",
    "        child[k] = (p1[k] + p2[k]) / 2\n",
    "    return child\n",
    "\n",
    "# Mutación (ruido gaussiano)\n",
    "def mutate(params, mutation_rate=0.1):\n",
    "    for k in params:\n",
    "        noise = torch.randn_like(params[k]) * mutation_rate\n",
    "        params[k] += noise\n",
    "    return params\n",
    "\n",
    "# ==== CONFIGURACIÓN GA ====\n",
    "env = gym.make('CartPole-v1')\n",
    "state_dim = env.observation_space.shape[0]\n",
    "action_dim = env.action_space.n\n",
    "env.close()\n",
    "\n",
    "population_size = 20\n",
    "generations = 40\n",
    "mutation_rate = 0.02\n",
    "elite_fraction = 0.2\n",
    "\n",
    "# Inicializa la población con redes aleatorias\n",
    "population = []\n",
    "for _ in range(population_size):\n",
    "    model = PolicyNet(state_dim, action_dim).to(device)\n",
    "    population.append(model.state_dict())\n",
    "\n",
    "best_scores = []\n",
    "\n",
    "\n",
    "\n"
   ]
  },
  {
   "cell_type": "code",
   "execution_count": 4,
   "metadata": {},
   "outputs": [
    {
     "name": "stdout",
     "output_type": "stream",
     "text": [
      "Gen 1, Best Fitness: 500.0\n",
      "Gen 2, Best Fitness: 500.0\n",
      "Gen 3, Best Fitness: 500.0\n",
      "Gen 4, Best Fitness: 500.0\n",
      "Gen 5, Best Fitness: 500.0\n",
      "Gen 6, Best Fitness: 500.0\n",
      "Gen 7, Best Fitness: 500.0\n",
      "Gen 8, Best Fitness: 500.0\n",
      "Gen 9, Best Fitness: 500.0\n",
      "Gen 10, Best Fitness: 500.0\n",
      "Gen 11, Best Fitness: 500.0\n",
      "Gen 12, Best Fitness: 500.0\n",
      "Gen 13, Best Fitness: 500.0\n",
      "Gen 14, Best Fitness: 500.0\n",
      "Gen 15, Best Fitness: 500.0\n",
      "Gen 16, Best Fitness: 500.0\n",
      "Gen 17, Best Fitness: 500.0\n",
      "Gen 18, Best Fitness: 500.0\n",
      "Gen 19, Best Fitness: 500.0\n",
      "Gen 20, Best Fitness: 500.0\n",
      "Gen 21, Best Fitness: 500.0\n",
      "Gen 22, Best Fitness: 500.0\n",
      "Gen 23, Best Fitness: 500.0\n",
      "Gen 24, Best Fitness: 500.0\n",
      "Gen 25, Best Fitness: 500.0\n",
      "Gen 26, Best Fitness: 500.0\n",
      "Gen 27, Best Fitness: 500.0\n",
      "Gen 28, Best Fitness: 500.0\n",
      "Gen 29, Best Fitness: 500.0\n",
      "Gen 30, Best Fitness: 500.0\n",
      "Gen 31, Best Fitness: 500.0\n",
      "Gen 32, Best Fitness: 500.0\n",
      "Gen 33, Best Fitness: 500.0\n",
      "Gen 34, Best Fitness: 500.0\n",
      "Gen 35, Best Fitness: 500.0\n",
      "Gen 36, Best Fitness: 500.0\n",
      "Gen 37, Best Fitness: 500.0\n",
      "Gen 38, Best Fitness: 500.0\n",
      "Gen 39, Best Fitness: 500.0\n",
      "Gen 40, Best Fitness: 500.0\n"
     ]
    }
   ],
   "source": [
    "# ==== entrenamiento ====\n",
    "\n",
    "for gen in range(generations):\n",
    "    fitness = []\n",
    "    for individual in population:\n",
    "        score = evaluate(individual, state_dim, action_dim)\n",
    "        fitness.append(score)\n",
    "\n",
    "    sorted_indices = np.argsort(fitness)[::-1]\n",
    "    elite_count = int(population_size * elite_fraction)\n",
    "    next_population = [population[idx] for idx in sorted_indices[:elite_count]]\n",
    "\n",
    "    print(f\"Gen {gen + 1}, Best Fitness: {fitness[sorted_indices[0]]}\")\n",
    "    best_scores.append(fitness[sorted_indices[0]])\n",
    "\n",
    "    while len(next_population) < population_size:\n",
    "        parents = random.sample(next_population, 2)\n",
    "        child = crossover(parents[0], parents[1])\n",
    "        child = mutate(child, mutation_rate)\n",
    "        next_population.append(child)\n",
    "\n",
    "    population = next_population"
   ]
  },
  {
   "cell_type": "code",
   "execution_count": 6,
   "metadata": {},
   "outputs": [
    {
     "data": {
      "image/png": "[encoded data removed]",
      "text/plain": [
       "<Figure size 640x480 with 1 Axes>"
      ]
     },
     "metadata": {},
     "output_type": "display_data"
    }
   ],
   "source": [
    "# ==== grafica ====\n",
    "\n",
    "plt.plot(best_scores)\n",
    "plt.xlabel('Generaciones')\n",
    "plt.ylabel('Mejor fitness')\n",
    "plt.title('NES CartPole- Recompensa por episodio')\n",
    "plt.show()\n"
   ]
  },
  {
   "cell_type": "code",
   "execution_count": 7,
   "metadata": {},
   "outputs": [
    {
     "name": "stdout",
     "output_type": "stream",
     "text": [
      "✅ Política guardada como 'nes_cartpole.pth'\n"
     ]
    }
   ],
   "source": [
    "# Guardar el mejor individuo al final\n",
    "best_index = np.argmax(fitness)\n",
    "best_model = PolicyNet(state_dim, action_dim).to(device)\n",
    "best_model.load_state_dict(population[best_index])\n",
    "torch.save(best_model.state_dict(), \"nes_cartpole.pth\")\n",
    "print(\"✅ Política guardada como 'nes_cartpole.pth'\")\n"
   ]
  },
  {
   "cell_type": "code",
   "execution_count": 8,
   "metadata": {},
   "outputs": [
    {
     "data": {
      "text/plain": [
       "PolicyNet(\n",
       "  (net): Sequential(\n",
       "    (0): Linear(in_features=4, out_features=16, bias=True)\n",
       "    (1): ReLU()\n",
       "    (2): Linear(in_features=16, out_features=2, bias=True)\n",
       "  )\n",
       ")"
      ]
     },
     "execution_count": 8,
     "metadata": {},
     "output_type": "execute_result"
    }
   ],
   "source": [
    "# Para test o visualización\n",
    "model = PolicyNet(state_dim, action_dim).to(device)\n",
    "model.load_state_dict(torch.load(\"nes_cartpole.pth\", map_location=device))\n",
    "model.eval()\n"
   ]
  }
 ],
 "metadata": {
  "kernelspec": {
   "display_name": "Python 3",
   "language": "python",
   "name": "python3"
  },
  "language_info": {
   "codemirror_mode": {
    "name": "ipython",
    "version": 3
   },
   "file_extension": ".py",
   "mimetype": "text/x-python",
   "name": "python",
   "nbconvert_exporter": "python",
   "pygments_lexer": "ipython3",
   "version": "3.11.5"
  }
 },
 "nbformat": 4,
 "nbformat_minor": 2
}
