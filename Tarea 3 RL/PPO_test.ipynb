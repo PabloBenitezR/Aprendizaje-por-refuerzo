{
 "cells": [
  {
   "cell_type": "code",
   "execution_count": 5,
   "metadata": {},
   "outputs": [
    {
     "ename": "RuntimeError",
     "evalue": "Error(s) in loading state_dict for CNNActorCritic:\n\tMissing key(s) in state_dict: \"policy_head.weight\", \"policy_head.bias\", \"value_head.weight\", \"value_head.bias\". \n\tUnexpected key(s) in state_dict: \"politica_up.weight\", \"politica_up.bias\", \"valor_up.weight\", \"valor_up.bias\". ",
     "output_type": "error",
     "traceback": [
      "\u001b[1;31m---------------------------------------------------------------------------\u001b[0m",
      "\u001b[1;31mRuntimeError\u001b[0m                              Traceback (most recent call last)",
      "Cell \u001b[1;32mIn[5], line 45\u001b[0m\n\u001b[0;32m     43\u001b[0m num_actions \u001b[38;5;241m=\u001b[39m env\u001b[38;5;241m.\u001b[39maction_space\u001b[38;5;241m.\u001b[39mn\n\u001b[0;32m     44\u001b[0m model \u001b[38;5;241m=\u001b[39m CNNActorCritic(num_actions)\u001b[38;5;241m.\u001b[39mto(device)\n\u001b[1;32m---> 45\u001b[0m \u001b[43mmodel\u001b[49m\u001b[38;5;241;43m.\u001b[39;49m\u001b[43mload_state_dict\u001b[49m\u001b[43m(\u001b[49m\u001b[43mtorch\u001b[49m\u001b[38;5;241;43m.\u001b[39;49m\u001b[43mload\u001b[49m\u001b[43m(\u001b[49m\u001b[38;5;124;43m'\u001b[39;49m\u001b[38;5;124;43mppo_breakout.pth\u001b[39;49m\u001b[38;5;124;43m'\u001b[39;49m\u001b[43m,\u001b[49m\u001b[43m \u001b[49m\u001b[43mmap_location\u001b[49m\u001b[38;5;241;43m=\u001b[39;49m\u001b[43mdevice\u001b[49m\u001b[43m)\u001b[49m\u001b[43m)\u001b[49m\n\u001b[0;32m     46\u001b[0m model\u001b[38;5;241m.\u001b[39meval()\n\u001b[0;32m     48\u001b[0m test_episodes \u001b[38;5;241m=\u001b[39m \u001b[38;5;241m5\u001b[39m\n",
      "File \u001b[1;32m~\\AppData\\Roaming\\Python\\Python311\\site-packages\\torch\\nn\\modules\\module.py:2581\u001b[0m, in \u001b[0;36mModule.load_state_dict\u001b[1;34m(self, state_dict, strict, assign)\u001b[0m\n\u001b[0;32m   2573\u001b[0m         error_msgs\u001b[38;5;241m.\u001b[39minsert(\n\u001b[0;32m   2574\u001b[0m             \u001b[38;5;241m0\u001b[39m,\n\u001b[0;32m   2575\u001b[0m             \u001b[38;5;124m\"\u001b[39m\u001b[38;5;124mMissing key(s) in state_dict: \u001b[39m\u001b[38;5;132;01m{}\u001b[39;00m\u001b[38;5;124m. \u001b[39m\u001b[38;5;124m\"\u001b[39m\u001b[38;5;241m.\u001b[39mformat(\n\u001b[0;32m   2576\u001b[0m                 \u001b[38;5;124m\"\u001b[39m\u001b[38;5;124m, \u001b[39m\u001b[38;5;124m\"\u001b[39m\u001b[38;5;241m.\u001b[39mjoin(\u001b[38;5;124mf\u001b[39m\u001b[38;5;124m'\u001b[39m\u001b[38;5;124m\"\u001b[39m\u001b[38;5;132;01m{\u001b[39;00mk\u001b[38;5;132;01m}\u001b[39;00m\u001b[38;5;124m\"\u001b[39m\u001b[38;5;124m'\u001b[39m \u001b[38;5;28;01mfor\u001b[39;00m k \u001b[38;5;129;01min\u001b[39;00m missing_keys)\n\u001b[0;32m   2577\u001b[0m             ),\n\u001b[0;32m   2578\u001b[0m         )\n\u001b[0;32m   2580\u001b[0m \u001b[38;5;28;01mif\u001b[39;00m \u001b[38;5;28mlen\u001b[39m(error_msgs) \u001b[38;5;241m>\u001b[39m \u001b[38;5;241m0\u001b[39m:\n\u001b[1;32m-> 2581\u001b[0m     \u001b[38;5;28;01mraise\u001b[39;00m \u001b[38;5;167;01mRuntimeError\u001b[39;00m(\n\u001b[0;32m   2582\u001b[0m         \u001b[38;5;124m\"\u001b[39m\u001b[38;5;124mError(s) in loading state_dict for \u001b[39m\u001b[38;5;132;01m{}\u001b[39;00m\u001b[38;5;124m:\u001b[39m\u001b[38;5;130;01m\\n\u001b[39;00m\u001b[38;5;130;01m\\t\u001b[39;00m\u001b[38;5;132;01m{}\u001b[39;00m\u001b[38;5;124m\"\u001b[39m\u001b[38;5;241m.\u001b[39mformat(\n\u001b[0;32m   2583\u001b[0m             \u001b[38;5;28mself\u001b[39m\u001b[38;5;241m.\u001b[39m\u001b[38;5;18m__class__\u001b[39m\u001b[38;5;241m.\u001b[39m\u001b[38;5;18m__name__\u001b[39m, \u001b[38;5;124m\"\u001b[39m\u001b[38;5;130;01m\\n\u001b[39;00m\u001b[38;5;130;01m\\t\u001b[39;00m\u001b[38;5;124m\"\u001b[39m\u001b[38;5;241m.\u001b[39mjoin(error_msgs)\n\u001b[0;32m   2584\u001b[0m         )\n\u001b[0;32m   2585\u001b[0m     )\n\u001b[0;32m   2586\u001b[0m \u001b[38;5;28;01mreturn\u001b[39;00m _IncompatibleKeys(missing_keys, unexpected_keys)\n",
      "\u001b[1;31mRuntimeError\u001b[0m: Error(s) in loading state_dict for CNNActorCritic:\n\tMissing key(s) in state_dict: \"policy_head.weight\", \"policy_head.bias\", \"value_head.weight\", \"value_head.bias\". \n\tUnexpected key(s) in state_dict: \"politica_up.weight\", \"politica_up.bias\", \"valor_up.weight\", \"valor_up.bias\". "
     ]
    }
   ],
   "source": [
    "import gymnasium as gym\n",
    "import ale_py\n",
    "import torch\n",
    "import numpy as np\n",
    "from torchvision import transforms\n",
    "from torch.distributions import Categorical\n",
    "\n",
    "device = torch.device(\"cuda\" if torch.cuda.is_available() else \"cpu\")\n",
    "\n",
    "# Preprocesamiento de frames igual que en entrenamiento\n",
    "preprocess = transforms.Compose([\n",
    "    transforms.ToPILImage(),\n",
    "    transforms.Grayscale(),\n",
    "    transforms.Resize((84, 84)),\n",
    "    transforms.ToTensor()\n",
    "])\n",
    "\n",
    "def preprocess_frame(frame):\n",
    "    return preprocess(frame).squeeze(0).numpy()\n",
    "\n",
    "# Red Actor-Critic CNN igual al entrenamiento\n",
    "class CNNActorCritic(torch.nn.Module):\n",
    "    def __init__(self, action_dim):\n",
    "        super().__init__()\n",
    "        self.conv = torch.nn.Sequential(\n",
    "            torch.nn.Conv2d(4, 32, kernel_size=8, stride=4), torch.nn.ReLU(),\n",
    "            torch.nn.Conv2d(32, 64, kernel_size=4, stride=2), torch.nn.ReLU(),\n",
    "            torch.nn.Conv2d(64, 64, kernel_size=3, stride=1), torch.nn.ReLU()\n",
    "        )\n",
    "        self.fc = torch.nn.Linear(64 * 7 * 7, 512)\n",
    "        self.policy_head = torch.nn.Linear(512, action_dim)\n",
    "        self.value_head = torch.nn.Linear(512, 1)\n",
    "\n",
    "    def forward(self, x):\n",
    "        x = self.conv(x).view(x.size(0), -1)\n",
    "        x = torch.relu(self.fc(x))\n",
    "        action_probs = torch.softmax(self.policy_head(x), dim=-1)\n",
    "        state_value = self.value_head(x)\n",
    "        return action_probs, state_value\n",
    "\n",
    "# === Cargar el entorno y el modelo entrenado ===\n",
    "env = gym.make('ALE/Breakout-v5', render_mode=\"human\", frameskip=1)\n",
    "num_actions = env.action_space.n\n",
    "model = CNNActorCritic(num_actions).to(device)\n",
    "model.load_state_dict(torch.load('ppo_breakout.pth', map_location=device))\n",
    "model.eval()\n",
    "\n",
    "test_episodes = 5\n",
    "\n",
    "for ep in range(test_episodes):\n",
    "    obs, _ = env.reset()\n",
    "    frame = preprocess_frame(obs)\n",
    "    state_stack = np.stack([frame] * 4, axis=0)\n",
    "    total_reward = 0\n",
    "    done = False\n",
    "\n",
    "    while not done:\n",
    "        state_tensor = torch.FloatTensor(state_stack).unsqueeze(0).to(device)\n",
    "        with torch.no_grad():\n",
    "            action_probs, _ = model(state_tensor)\n",
    "        dist = Categorical(action_probs)\n",
    "        action = dist.probs.argmax().item()\n",
    "\n",
    "        next_obs, reward, terminated, truncated, _ = env.step(action)\n",
    "        done = terminated or truncated\n",
    "        next_frame = preprocess_frame(next_obs)\n",
    "        state_stack = np.append(state_stack[1:], [next_frame], axis=0)\n",
    "        total_reward += reward\n",
    "\n",
    "    print(f\"✅ Test Episode {ep + 1}, Total Reward: {total_reward}\")\n",
    "\n",
    "env.close()\n",
    "\n"
   ]
  }
 ],
 "metadata": {
  "kernelspec": {
   "display_name": "Python 3",
   "language": "python",
   "name": "python3"
  },
  "language_info": {
   "codemirror_mode": {
    "name": "ipython",
    "version": 3
   },
   "file_extension": ".py",
   "mimetype": "text/x-python",
   "name": "python",
   "nbconvert_exporter": "python",
   "pygments_lexer": "ipython3",
   "version": "3.11.5"
  }
 },
 "nbformat": 4,
 "nbformat_minor": 2
}
