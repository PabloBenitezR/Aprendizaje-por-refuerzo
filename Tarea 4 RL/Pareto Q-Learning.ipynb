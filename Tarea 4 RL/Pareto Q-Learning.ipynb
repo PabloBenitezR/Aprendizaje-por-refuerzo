{
 "cells": [
  {
   "cell_type": "code",
   "execution_count": 25,
   "id": "550216b9",
   "metadata": {},
   "outputs": [],
   "source": [
    "# paquetes\n",
    "\n",
    "import numpy as np\n",
    "import gymnasium as gym\n",
    "import mo_gymnasium as mo_gym\n",
    "import random"
   ]
  },
  {
   "cell_type": "markdown",
   "id": "b8df72cc",
   "metadata": {},
   "source": [
    "Implementación del algoritmo Pareto Q-Learning"
   ]
  },
  {
   "cell_type": "code",
   "execution_count": 26,
   "id": "15390494",
   "metadata": {},
   "outputs": [],
   "source": [
    "# dominancia de Pareto\n",
    "\n",
    "def domina(v1, v2):\n",
    "    return all(v1_i <= v2_i for v1_i, v2_i in zip(v1, v2)) and any(v1_i < v2_i for v1_i, v2_i in zip(v1, v2))"
   ]
  },
  {
   "cell_type": "code",
   "execution_count": 27,
   "id": "373c1c53",
   "metadata": {},
   "outputs": [],
   "source": [
    "# conjunto de vectores no dominados\n",
    "\n",
    "def no_dominado(vectores):\n",
    "    no_dominado = []\n",
    "    for v in vectores:\n",
    "        if not any(domina(v,u) for u in vectores if not np.array_equal(v,u)):\n",
    "            no_dominado.append(v)\n",
    "    return no_dominado"
   ]
  },
  {
   "cell_type": "code",
   "execution_count": 28,
   "id": "6a6e3745",
   "metadata": {},
   "outputs": [],
   "source": [
    "# parametros\n",
    "\n",
    "gamma = 0.9"
   ]
  },
  {
   "cell_type": "code",
   "execution_count": 29,
   "id": "445a2eaf",
   "metadata": {},
   "outputs": [],
   "source": [
    "# Pareto Q-Learning (PQL)\n",
    "\n",
    "class PQL:\n",
    "    def __init__(set, env, gamma):\n",
    "        set.env = env\n",
    "        set.gamma = gamma\n",
    "        set.Q_set = dict()  # valor de accion\n",
    "        set.R_avg = dict()  # recompensa promedio\n",
    "        set.visits = dict() # contador de visitas al estado presente\n",
    "    \n",
    "    def start(set):\n",
    "        for s in range(set.env.n_states):\n",
    "            for a in range(set.env.n_actions):\n",
    "                set.Q_set[(s,a)] = []\n",
    "                set.R_avg[(s,a)] = np.zeros(set.env.reward_dim)\n",
    "                set.visits[(s,a)] = 0\n",
    "\n",
    "    def escalarizacion(set, s, pesos):\n",
    "        best_score = -np.inf\n",
    "        best_action = None\n",
    "        for a in range(set.env.n_actions):\n",
    "            for q in set.Q_set[(s,a)]:\n",
    "                score = np.dot(pesos, q)\n",
    "                if score > best_score:\n",
    "                    best_score = score\n",
    "                    best_action = a  \n",
    "        return best_action if best_action is not None else set.env.action_space.sample()   \n",
    "    \n",
    "    def actualizar(set, s, a, r, ss):\n",
    "        set.visits[(s,a)] = set.visits[(s,a)] + 1\n",
    "        n = set.visits[(s,a)]\n",
    "        set.R_avg[(s,a)] = set.R_avg[(s,a)] + (r - set.R_avg[(s,a)]) / n\n",
    "\n",
    "        # dicc de posibles sucesores con la act del Q_set\n",
    "        succeq = []\n",
    "        for a_succ in range(set.env.n_actions):\n",
    "            for q in set.Q_set[(ss, a_succ)]:\n",
    "                succeq.append(q)\n",
    "        prox = no_dominado(succeq)\n",
    "\n",
    "        #retorno\n",
    "        ppvector = [r + set.gamma * q for q in ppvector] if ppvector else [r]\n",
    "        set.Q_set[(s,a)] = no_dominado(set.Q_set[(s,a)] + ppvector)  \n",
    "\n",
    "    def entrenamiento(set, episodios, pesos):\n",
    "        set.start()\n",
    "        for ep in range(episodios):\n",
    "            s = set.env.reset()\n",
    "            done = False\n",
    "            while not done:\n",
    "                a = set.select_action(s, pesos)\n",
    "                ss, r, done, _ = set.env.step(a)\n",
    "                r_vec = np.array(r) \n",
    "                set.update(s, a, r_vec, ss)\n",
    "                s = ss"
   ]
  },
  {
   "cell_type": "markdown",
   "id": "aa863954",
   "metadata": {},
   "source": [
    "Implementación de MO-Lunar-Lander"
   ]
  },
  {
   "cell_type": "code",
   "execution_count": 32,
   "id": "2e75e9a3",
   "metadata": {},
   "outputs": [
    {
     "ename": "DependencyNotInstalled",
     "evalue": "Box2D is not installed, you can install it by run `pip install swig` followed by `pip install \"gymnasium[box2d]\"`",
     "output_type": "error",
     "traceback": [
      "\u001b[31m---------------------------------------------------------------------------\u001b[39m",
      "\u001b[31mImportError\u001b[39m                               Traceback (most recent call last)",
      "\u001b[36mFile \u001b[39m\u001b[32mc:\\Users\\Pablo\\Documents\\GitHub\\Aprendizaje-por-refuerzo\\.venv\\Lib\\site-packages\\gymnasium\\envs\\box2d\\bipedal_walker.py:15\u001b[39m\n\u001b[32m     14\u001b[39m \u001b[38;5;28;01mtry\u001b[39;00m:\n\u001b[32m---> \u001b[39m\u001b[32m15\u001b[39m     \u001b[38;5;28;01mimport\u001b[39;00m\u001b[38;5;250m \u001b[39m\u001b[34;01mBox2D\u001b[39;00m\n\u001b[32m     16\u001b[39m     \u001b[38;5;28;01mfrom\u001b[39;00m\u001b[38;5;250m \u001b[39m\u001b[34;01mBox2D\u001b[39;00m\u001b[34;01m.\u001b[39;00m\u001b[34;01mb2\u001b[39;00m\u001b[38;5;250m \u001b[39m\u001b[38;5;28;01mimport\u001b[39;00m (\n\u001b[32m     17\u001b[39m         circleShape,\n\u001b[32m     18\u001b[39m         contactListener,\n\u001b[32m   (...)\u001b[39m\u001b[32m     22\u001b[39m         revoluteJointDef,\n\u001b[32m     23\u001b[39m     )\n",
      "\u001b[36mFile \u001b[39m\u001b[32mc:\\Users\\Pablo\\Documents\\GitHub\\Aprendizaje-por-refuerzo\\.venv\\Lib\\site-packages\\Box2D\\__init__.py:20\u001b[39m\n\u001b[32m      1\u001b[39m \u001b[38;5;66;03m#!/usr/bin/python\u001b[39;00m\n\u001b[32m      2\u001b[39m \u001b[38;5;66;03m#\u001b[39;00m\n\u001b[32m      3\u001b[39m \u001b[38;5;66;03m# C++ version copyright 2010 Erin Catto http://www.gphysics.com\u001b[39;00m\n\u001b[32m   (...)\u001b[39m\u001b[32m     18\u001b[39m \u001b[38;5;66;03m# 3. This notice may not be removed or altered from any source distribution.\u001b[39;00m\n\u001b[32m     19\u001b[39m \u001b[38;5;66;03m# \u001b[39;00m\n\u001b[32m---> \u001b[39m\u001b[32m20\u001b[39m \u001b[38;5;28;01mfrom\u001b[39;00m\u001b[38;5;250m \u001b[39m\u001b[34;01m.\u001b[39;00m\u001b[34;01mBox2D\u001b[39;00m\u001b[38;5;250m \u001b[39m\u001b[38;5;28;01mimport\u001b[39;00m *\n\u001b[32m     21\u001b[39m __version__ = \u001b[33m'\u001b[39m\u001b[33m2.3.10\u001b[39m\u001b[33m'\u001b[39m\n",
      "\u001b[36mFile \u001b[39m\u001b[32mc:\\Users\\Pablo\\Documents\\GitHub\\Aprendizaje-por-refuerzo\\.venv\\Lib\\site-packages\\Box2D\\Box2D.py:10\u001b[39m\n\u001b[32m      9\u001b[39m \u001b[38;5;28;01mif\u001b[39;00m __package__ \u001b[38;5;129;01mor\u001b[39;00m \u001b[33m\"\u001b[39m\u001b[33m.\u001b[39m\u001b[33m\"\u001b[39m \u001b[38;5;129;01min\u001b[39;00m \u001b[34m__name__\u001b[39m:\n\u001b[32m---> \u001b[39m\u001b[32m10\u001b[39m     \u001b[38;5;28;01mfrom\u001b[39;00m\u001b[38;5;250m \u001b[39m\u001b[34;01m.\u001b[39;00m\u001b[38;5;250m \u001b[39m\u001b[38;5;28;01mimport\u001b[39;00m _Box2D\n\u001b[32m     11\u001b[39m \u001b[38;5;28;01melse\u001b[39;00m:\n",
      "\u001b[31mImportError\u001b[39m: DLL load failed while importing _Box2D: The specified module could not be found.",
      "\nThe above exception was the direct cause of the following exception:\n",
      "\u001b[31mDependencyNotInstalled\u001b[39m                    Traceback (most recent call last)",
      "\u001b[36mCell\u001b[39m\u001b[36m \u001b[39m\u001b[32mIn[32]\u001b[39m\u001b[32m, line 3\u001b[39m\n\u001b[32m      1\u001b[39m \u001b[38;5;66;03m# ambiente de MO-Lunar-Lander\u001b[39;00m\n\u001b[32m----> \u001b[39m\u001b[32m3\u001b[39m env = \u001b[43mmo_gym\u001b[49m\u001b[43m.\u001b[49m\u001b[43mmake\u001b[49m\u001b[43m(\u001b[49m\u001b[33;43m\"\u001b[39;49m\u001b[33;43mmo-lunar-lander-v3\u001b[39;49m\u001b[33;43m\"\u001b[39;49m\u001b[43m)\u001b[49m\n",
      "\u001b[36mFile \u001b[39m\u001b[32mc:\\Users\\Pablo\\Documents\\GitHub\\Aprendizaje-por-refuerzo\\.venv\\Lib\\site-packages\\mo_gymnasium\\utils.py:22\u001b[39m, in \u001b[36mmake\u001b[39m\u001b[34m(env_name, disable_env_checker, **kwargs)\u001b[39m\n\u001b[32m     13\u001b[39m \u001b[38;5;250m\u001b[39m\u001b[33;03m\"\"\"Overrides Gymnasium's make method to disable env_checker by default.\u001b[39;00m\n\u001b[32m     14\u001b[39m \n\u001b[32m     15\u001b[39m \u001b[33;03mArgs:\u001b[39;00m\n\u001b[32m   (...)\u001b[39m\u001b[32m     19\u001b[39m \u001b[33;03mReturns: a newly created environment.\u001b[39;00m\n\u001b[32m     20\u001b[39m \u001b[33;03m\"\"\"\u001b[39;00m\n\u001b[32m     21\u001b[39m \u001b[38;5;250m\u001b[39m\u001b[33;03m\"\"\"Disable env checker, as it requires the reward to be a scalar.\"\"\"\u001b[39;00m\n\u001b[32m---> \u001b[39m\u001b[32m22\u001b[39m \u001b[38;5;28;01mreturn\u001b[39;00m \u001b[43mgym\u001b[49m\u001b[43m.\u001b[49m\u001b[43mmake\u001b[49m\u001b[43m(\u001b[49m\u001b[43menv_name\u001b[49m\u001b[43m,\u001b[49m\u001b[43m \u001b[49m\u001b[43mdisable_env_checker\u001b[49m\u001b[43m=\u001b[49m\u001b[43mdisable_env_checker\u001b[49m\u001b[43m,\u001b[49m\u001b[43m \u001b[49m\u001b[43m*\u001b[49m\u001b[43m*\u001b[49m\u001b[43mkwargs\u001b[49m\u001b[43m)\u001b[49m\n",
      "\u001b[36mFile \u001b[39m\u001b[32mc:\\Users\\Pablo\\Documents\\GitHub\\Aprendizaje-por-refuerzo\\.venv\\Lib\\site-packages\\gymnasium\\envs\\registration.py:704\u001b[39m, in \u001b[36mmake\u001b[39m\u001b[34m(id, max_episode_steps, disable_env_checker, **kwargs)\u001b[39m\n\u001b[32m    701\u001b[39m     env_creator = env_spec.entry_point\n\u001b[32m    702\u001b[39m \u001b[38;5;28;01melse\u001b[39;00m:\n\u001b[32m    703\u001b[39m     \u001b[38;5;66;03m# Assume it's a string\u001b[39;00m\n\u001b[32m--> \u001b[39m\u001b[32m704\u001b[39m     env_creator = \u001b[43mload_env_creator\u001b[49m\u001b[43m(\u001b[49m\u001b[43menv_spec\u001b[49m\u001b[43m.\u001b[49m\u001b[43mentry_point\u001b[49m\u001b[43m)\u001b[49m\n\u001b[32m    706\u001b[39m \u001b[38;5;66;03m# Determine if to use the rendering\u001b[39;00m\n\u001b[32m    707\u001b[39m render_modes: \u001b[38;5;28mlist\u001b[39m[\u001b[38;5;28mstr\u001b[39m] | \u001b[38;5;28;01mNone\u001b[39;00m = \u001b[38;5;28;01mNone\u001b[39;00m\n",
      "\u001b[36mFile \u001b[39m\u001b[32mc:\\Users\\Pablo\\Documents\\GitHub\\Aprendizaje-por-refuerzo\\.venv\\Lib\\site-packages\\gymnasium\\envs\\registration.py:551\u001b[39m, in \u001b[36mload_env_creator\u001b[39m\u001b[34m(name)\u001b[39m\n\u001b[32m    542\u001b[39m \u001b[38;5;250m\u001b[39m\u001b[33;03m\"\"\"Loads an environment with name of style ``\"(import path):(environment name)\"`` and returns the environment creation function, normally the environment class type.\u001b[39;00m\n\u001b[32m    543\u001b[39m \n\u001b[32m    544\u001b[39m \u001b[33;03mArgs:\u001b[39;00m\n\u001b[32m   (...)\u001b[39m\u001b[32m    548\u001b[39m \u001b[33;03m    The environment constructor for the given environment name.\u001b[39;00m\n\u001b[32m    549\u001b[39m \u001b[33;03m\"\"\"\u001b[39;00m\n\u001b[32m    550\u001b[39m mod_name, attr_name = name.split(\u001b[33m\"\u001b[39m\u001b[33m:\u001b[39m\u001b[33m\"\u001b[39m)\n\u001b[32m--> \u001b[39m\u001b[32m551\u001b[39m mod = \u001b[43mimportlib\u001b[49m\u001b[43m.\u001b[49m\u001b[43mimport_module\u001b[49m\u001b[43m(\u001b[49m\u001b[43mmod_name\u001b[49m\u001b[43m)\u001b[49m\n\u001b[32m    552\u001b[39m fn = \u001b[38;5;28mgetattr\u001b[39m(mod, attr_name)\n\u001b[32m    553\u001b[39m \u001b[38;5;28;01mreturn\u001b[39;00m fn\n",
      "\u001b[36mFile \u001b[39m\u001b[32mC:\\Program Files\\WindowsApps\\PythonSoftwareFoundation.Python.3.11_3.11.2544.0_x64__qbz5n2kfra8p0\\Lib\\importlib\\__init__.py:126\u001b[39m, in \u001b[36mimport_module\u001b[39m\u001b[34m(name, package)\u001b[39m\n\u001b[32m    124\u001b[39m             \u001b[38;5;28;01mbreak\u001b[39;00m\n\u001b[32m    125\u001b[39m         level += \u001b[32m1\u001b[39m\n\u001b[32m--> \u001b[39m\u001b[32m126\u001b[39m \u001b[38;5;28;01mreturn\u001b[39;00m \u001b[43m_bootstrap\u001b[49m\u001b[43m.\u001b[49m\u001b[43m_gcd_import\u001b[49m\u001b[43m(\u001b[49m\u001b[43mname\u001b[49m\u001b[43m[\u001b[49m\u001b[43mlevel\u001b[49m\u001b[43m:\u001b[49m\u001b[43m]\u001b[49m\u001b[43m,\u001b[49m\u001b[43m \u001b[49m\u001b[43mpackage\u001b[49m\u001b[43m,\u001b[49m\u001b[43m \u001b[49m\u001b[43mlevel\u001b[49m\u001b[43m)\u001b[49m\n",
      "\u001b[36mFile \u001b[39m\u001b[32m<frozen importlib._bootstrap>:1204\u001b[39m, in \u001b[36m_gcd_import\u001b[39m\u001b[34m(name, package, level)\u001b[39m\n",
      "\u001b[36mFile \u001b[39m\u001b[32m<frozen importlib._bootstrap>:1176\u001b[39m, in \u001b[36m_find_and_load\u001b[39m\u001b[34m(name, import_)\u001b[39m\n",
      "\u001b[36mFile \u001b[39m\u001b[32m<frozen importlib._bootstrap>:1147\u001b[39m, in \u001b[36m_find_and_load_unlocked\u001b[39m\u001b[34m(name, import_)\u001b[39m\n",
      "\u001b[36mFile \u001b[39m\u001b[32m<frozen importlib._bootstrap>:690\u001b[39m, in \u001b[36m_load_unlocked\u001b[39m\u001b[34m(spec)\u001b[39m\n",
      "\u001b[36mFile \u001b[39m\u001b[32m<frozen importlib._bootstrap_external>:940\u001b[39m, in \u001b[36mexec_module\u001b[39m\u001b[34m(self, module)\u001b[39m\n",
      "\u001b[36mFile \u001b[39m\u001b[32m<frozen importlib._bootstrap>:241\u001b[39m, in \u001b[36m_call_with_frames_removed\u001b[39m\u001b[34m(f, *args, **kwds)\u001b[39m\n",
      "\u001b[36mFile \u001b[39m\u001b[32mc:\\Users\\Pablo\\Documents\\GitHub\\Aprendizaje-por-refuerzo\\.venv\\Lib\\site-packages\\mo_gymnasium\\envs\\lunar_lander\\lunar_lander.py:5\u001b[39m\n\u001b[32m      3\u001b[39m \u001b[38;5;28;01mimport\u001b[39;00m\u001b[38;5;250m \u001b[39m\u001b[34;01mnumpy\u001b[39;00m\u001b[38;5;250m \u001b[39m\u001b[38;5;28;01mas\u001b[39;00m\u001b[38;5;250m \u001b[39m\u001b[34;01mnp\u001b[39;00m\n\u001b[32m      4\u001b[39m \u001b[38;5;28;01mfrom\u001b[39;00m\u001b[38;5;250m \u001b[39m\u001b[34;01mgymnasium\u001b[39;00m\u001b[38;5;250m \u001b[39m\u001b[38;5;28;01mimport\u001b[39;00m spaces\n\u001b[32m----> \u001b[39m\u001b[32m5\u001b[39m \u001b[38;5;28;01mfrom\u001b[39;00m\u001b[38;5;250m \u001b[39m\u001b[34;01mgymnasium\u001b[39;00m\u001b[34;01m.\u001b[39;00m\u001b[34;01menvs\u001b[39;00m\u001b[34;01m.\u001b[39;00m\u001b[34;01mbox2d\u001b[39;00m\u001b[34;01m.\u001b[39;00m\u001b[34;01mlunar_lander\u001b[39;00m\u001b[38;5;250m \u001b[39m\u001b[38;5;28;01mimport\u001b[39;00m (\n\u001b[32m      6\u001b[39m     FPS,\n\u001b[32m      7\u001b[39m     LEG_DOWN,\n\u001b[32m      8\u001b[39m     MAIN_ENGINE_POWER,\n\u001b[32m      9\u001b[39m     MAIN_ENGINE_Y_LOCATION,\n\u001b[32m     10\u001b[39m     SCALE,\n\u001b[32m     11\u001b[39m     SIDE_ENGINE_AWAY,\n\u001b[32m     12\u001b[39m     SIDE_ENGINE_HEIGHT,\n\u001b[32m     13\u001b[39m     SIDE_ENGINE_POWER,\n\u001b[32m     14\u001b[39m     VIEWPORT_H,\n\u001b[32m     15\u001b[39m     VIEWPORT_W,\n\u001b[32m     16\u001b[39m     LunarLander,\n\u001b[32m     17\u001b[39m )\n\u001b[32m     20\u001b[39m \u001b[38;5;28;01mclass\u001b[39;00m\u001b[38;5;250m \u001b[39m\u001b[34;01mMOLunarLander\u001b[39;00m(LunarLander):  \u001b[38;5;66;03m# no need for EzPickle, it's already in LunarLander\u001b[39;00m\n\u001b[32m     21\u001b[39m \u001b[38;5;250m    \u001b[39m\u001b[33;03m\"\"\"\u001b[39;00m\n\u001b[32m     22\u001b[39m \u001b[33;03m    ## Description\u001b[39;00m\n\u001b[32m     23\u001b[39m \u001b[33;03m    Multi-objective version of the LunarLander environment.\u001b[39;00m\n\u001b[32m   (...)\u001b[39m\u001b[32m     32\u001b[39m \u001b[33;03m    - 3: Fuel cost (side engine)\u001b[39;00m\n\u001b[32m     33\u001b[39m \u001b[33;03m    \"\"\"\u001b[39;00m\n",
      "\u001b[36mFile \u001b[39m\u001b[32mc:\\Users\\Pablo\\Documents\\GitHub\\Aprendizaje-por-refuerzo\\.venv\\Lib\\site-packages\\gymnasium\\envs\\box2d\\__init__.py:1\u001b[39m\n\u001b[32m----> \u001b[39m\u001b[32m1\u001b[39m \u001b[38;5;28;01mfrom\u001b[39;00m\u001b[38;5;250m \u001b[39m\u001b[34;01mgymnasium\u001b[39;00m\u001b[34;01m.\u001b[39;00m\u001b[34;01menvs\u001b[39;00m\u001b[34;01m.\u001b[39;00m\u001b[34;01mbox2d\u001b[39;00m\u001b[34;01m.\u001b[39;00m\u001b[34;01mbipedal_walker\u001b[39;00m\u001b[38;5;250m \u001b[39m\u001b[38;5;28;01mimport\u001b[39;00m BipedalWalker, BipedalWalkerHardcore\n\u001b[32m      2\u001b[39m \u001b[38;5;28;01mfrom\u001b[39;00m\u001b[38;5;250m \u001b[39m\u001b[34;01mgymnasium\u001b[39;00m\u001b[34;01m.\u001b[39;00m\u001b[34;01menvs\u001b[39;00m\u001b[34;01m.\u001b[39;00m\u001b[34;01mbox2d\u001b[39;00m\u001b[34;01m.\u001b[39;00m\u001b[34;01mcar_racing\u001b[39;00m\u001b[38;5;250m \u001b[39m\u001b[38;5;28;01mimport\u001b[39;00m CarRacing\n\u001b[32m      3\u001b[39m \u001b[38;5;28;01mfrom\u001b[39;00m\u001b[38;5;250m \u001b[39m\u001b[34;01mgymnasium\u001b[39;00m\u001b[34;01m.\u001b[39;00m\u001b[34;01menvs\u001b[39;00m\u001b[34;01m.\u001b[39;00m\u001b[34;01mbox2d\u001b[39;00m\u001b[34;01m.\u001b[39;00m\u001b[34;01mlunar_lander\u001b[39;00m\u001b[38;5;250m \u001b[39m\u001b[38;5;28;01mimport\u001b[39;00m LunarLander, LunarLanderContinuous\n",
      "\u001b[36mFile \u001b[39m\u001b[32mc:\\Users\\Pablo\\Documents\\GitHub\\Aprendizaje-por-refuerzo\\.venv\\Lib\\site-packages\\gymnasium\\envs\\box2d\\bipedal_walker.py:25\u001b[39m\n\u001b[32m     16\u001b[39m     \u001b[38;5;28;01mfrom\u001b[39;00m\u001b[38;5;250m \u001b[39m\u001b[34;01mBox2D\u001b[39;00m\u001b[34;01m.\u001b[39;00m\u001b[34;01mb2\u001b[39;00m\u001b[38;5;250m \u001b[39m\u001b[38;5;28;01mimport\u001b[39;00m (\n\u001b[32m     17\u001b[39m         circleShape,\n\u001b[32m     18\u001b[39m         contactListener,\n\u001b[32m   (...)\u001b[39m\u001b[32m     22\u001b[39m         revoluteJointDef,\n\u001b[32m     23\u001b[39m     )\n\u001b[32m     24\u001b[39m \u001b[38;5;28;01mexcept\u001b[39;00m \u001b[38;5;167;01mImportError\u001b[39;00m \u001b[38;5;28;01mas\u001b[39;00m e:\n\u001b[32m---> \u001b[39m\u001b[32m25\u001b[39m     \u001b[38;5;28;01mraise\u001b[39;00m DependencyNotInstalled(\n\u001b[32m     26\u001b[39m         \u001b[33m'\u001b[39m\u001b[33mBox2D is not installed, you can install it by run `pip install swig` followed by `pip install \u001b[39m\u001b[33m\"\u001b[39m\u001b[33mgymnasium[box2d]\u001b[39m\u001b[33m\"\u001b[39m\u001b[33m`\u001b[39m\u001b[33m'\u001b[39m\n\u001b[32m     27\u001b[39m     ) \u001b[38;5;28;01mfrom\u001b[39;00m\u001b[38;5;250m \u001b[39m\u001b[34;01me\u001b[39;00m\n\u001b[32m     30\u001b[39m \u001b[38;5;28;01mif\u001b[39;00m TYPE_CHECKING:\n\u001b[32m     31\u001b[39m     \u001b[38;5;28;01mimport\u001b[39;00m\u001b[38;5;250m \u001b[39m\u001b[34;01mpygame\u001b[39;00m\n",
      "\u001b[31mDependencyNotInstalled\u001b[39m: Box2D is not installed, you can install it by run `pip install swig` followed by `pip install \"gymnasium[box2d]\"`"
     ]
    }
   ],
   "source": [
    "# ambiente de MO-Lunar-Lander\n",
    "\n",
    "env = mo_gym.make(\"mo-lunar-lander-v3\")"
   ]
  },
  {
   "cell_type": "code",
   "execution_count": null,
   "id": "5348c45a",
   "metadata": {},
   "outputs": [],
   "source": [
    "pesos = np.array([0.5, 0.3, 0.1, 0.1])  # Preferencia por aterrizaje exitoso y recompensa de modelado\n",
    "agent = PQL(env, gamma)\n",
    "agent.train(episodes=500, wwe=pesos)\n"
   ]
  }
 ],
 "metadata": {
  "kernelspec": {
   "display_name": ".venv",
   "language": "python",
   "name": "python3"
  },
  "language_info": {
   "codemirror_mode": {
    "name": "ipython",
    "version": 3
   },
   "file_extension": ".py",
   "mimetype": "text/x-python",
   "name": "python",
   "nbconvert_exporter": "python",
   "pygments_lexer": "ipython3",
   "version": "3.11.9"
  }
 },
 "nbformat": 4,
 "nbformat_minor": 5
}
