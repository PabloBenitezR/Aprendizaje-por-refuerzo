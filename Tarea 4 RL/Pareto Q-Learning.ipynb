{
 "cells": [
  {
   "cell_type": "code",
   "execution_count": null,
   "id": "550216b9",
   "metadata": {},
   "outputs": [],
   "source": [
    "# paquetes\n",
    "import numpy as np\n",
    "import gymnasium as gym"
   ]
  },
  {
   "cell_type": "code",
   "execution_count": null,
   "id": "15390494",
   "metadata": {},
   "outputs": [],
   "source": [
    "# dominancia de Pareto\n",
    "def domina(v1, v2):\n",
    "    return all(v1_i <= v2_i for v1_i, v2_i in zip(v1, v2)) and any(v1_i < v2_i for v1_i, v2_i in zip(v1, v2))"
   ]
  },
  {
   "cell_type": "code",
   "execution_count": null,
   "id": "373c1c53",
   "metadata": {},
   "outputs": [],
   "source": [
    "# conjunto de vectores no dominados\n",
    "def no_dominado(vectores):\n",
    "    no_dominado = []\n",
    "    for v in vectores:\n",
    "        if not any(domina(v,u) for u in vectores if not np.array_equal(v,u)):\n",
    "            no_dominado.append(v)\n",
    "    return no_dominado"
   ]
  },
  {
   "cell_type": "code",
   "execution_count": null,
   "id": "6a6e3745",
   "metadata": {},
   "outputs": [],
   "source": [
    "# parametros\n",
    "gamma = 1"
   ]
  },
  {
   "cell_type": "code",
   "execution_count": null,
   "id": "445a2eaf",
   "metadata": {},
   "outputs": [],
   "source": [
    "# Pareto Q-Learning (PQL)\n",
    "\n",
    "class PQL:\n",
    "    def __init__(self, env, gamma=0.9):\n",
    "        self.env = env\n",
    "        self.gamma = gamma\n",
    "        self.Q_set = dict()  # Q_set[(s,a)] = [vec1, vec2, ...]\n",
    "        self.R_avg = dict()  # R_avg[(s,a)] = reward vector promedio\n",
    "        self.visits = dict() # visitas[(s,a)] = contador\n",
    "\n",
    "    def initialize(self):\n",
    "        for s in range(self.env.n_states):\n",
    "            for a in range(self.env.n_actions):\n",
    "                self.Q_set[(s,a)] = []\n",
    "                self.R_avg[(s,a)] = np.zeros(self.env.reward_dim)\n",
    "                self.visits[(s,a)] = 0\n",
    "\n",
    "    def select_action(self, s, weights):\n",
    "        \"\"\"Elige la mejor acción en s por scalarización lineal\"\"\"\n",
    "        best_score = -np.inf\n",
    "        best_action = None\n",
    "        for a in range(self.env.n_actions):\n",
    "            for q in self.Q_set[(s,a)]:\n",
    "                score = np.dot(weights, q)\n",
    "                if score > best_score:\n",
    "                    best_score = score\n",
    "                    best_action = a\n",
    "        # Exploración básica si no hay vectores\n",
    "        return best_action if best_action is not None else self.env.action_space.sample()\n",
    "\n",
    "    def update(self, s, a, r, s_next):\n",
    "        self.visits[(s,a)] += 1\n",
    "        n = self.visits[(s,a)]\n",
    "        self.R_avg[(s,a)] += (r - self.R_avg[(s,a)]) / n\n",
    "\n",
    "        # Construir candidatos futuros\n",
    "        successors = []\n",
    "        for a_prime in range(self.env.n_actions):\n",
    "            for q in self.Q_set[(s_next, a_prime)]:\n",
    "                successors.append(q)\n",
    "        future = remove_dominated(successors)\n",
    "\n",
    "        # Suma de recompensa + γ * q'\n",
    "        candidates = [r + self.gamma * q for q in future] if future else [r]\n",
    "        self.Q_set[(s,a)] = remove_dominated(self.Q_set[(s,a)] + candidates)\n",
    "\n",
    "    def train(self, episodes, weights):\n",
    "        self.initialize()\n",
    "        for ep in range(episodes):\n",
    "            s = self.env.reset()\n",
    "            done = False\n",
    "            while not done:\n",
    "                a = self.select_action(s, weights)\n",
    "                s_next, r, done, _ = self.env.step(a)\n",
    "                r_vec = np.array(r)  # vector de recompensa\n",
    "                self.update(s, a, r_vec, s_next)\n",
    "                s = s_next"
   ]
  }
 ],
 "metadata": {
  "kernelspec": {
   "display_name": ".venv",
   "language": "python",
   "name": "python3"
  },
  "language_info": {
   "codemirror_mode": {
    "name": "ipython",
    "version": 3
   },
   "file_extension": ".py",
   "mimetype": "text/x-python",
   "name": "python",
   "nbconvert_exporter": "python",
   "pygments_lexer": "ipython3",
   "version": "3.11.9"
  }
 },
 "nbformat": 4,
 "nbformat_minor": 5
}
