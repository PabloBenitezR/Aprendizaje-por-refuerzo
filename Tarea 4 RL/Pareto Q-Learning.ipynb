{
 "cells": [
  {
   "cell_type": "code",
   "execution_count": 7,
   "id": "550216b9",
   "metadata": {},
   "outputs": [],
   "source": [
    "# paquetes\n",
    "\n",
    "import numpy as np\n",
    "import gymnasium as gym"
   ]
  },
  {
   "cell_type": "code",
   "execution_count": 8,
   "id": "15390494",
   "metadata": {},
   "outputs": [],
   "source": [
    "# dominancia de Pareto\n",
    "\n",
    "def domina(v1, v2):\n",
    "    return all(v1_i <= v2_i for v1_i, v2_i in zip(v1, v2)) and any(v1_i < v2_i for v1_i, v2_i in zip(v1, v2))"
   ]
  },
  {
   "cell_type": "code",
   "execution_count": 9,
   "id": "373c1c53",
   "metadata": {},
   "outputs": [],
   "source": [
    "# conjunto de vectores no dominados\n",
    "\n",
    "def no_dominado(vectores):\n",
    "    no_dominado = []\n",
    "    for v in vectores:\n",
    "        if not any(domina(v,u) for u in vectores if not np.array_equal(v,u)):\n",
    "            no_dominado.append(v)\n",
    "    return no_dominado"
   ]
  },
  {
   "cell_type": "code",
   "execution_count": 10,
   "id": "6a6e3745",
   "metadata": {},
   "outputs": [],
   "source": [
    "# parametros\n",
    "\n",
    "gamma = 0.9"
   ]
  },
  {
   "cell_type": "code",
   "execution_count": 11,
   "id": "445a2eaf",
   "metadata": {},
   "outputs": [],
   "source": [
    "# Pareto Q-Learning (PQL)\n",
    "\n",
    "class PQL:\n",
    "    def __init__(set, env, gamma):\n",
    "        set.env = env\n",
    "        set.gamma = gamma\n",
    "        set.Q_set = dict()  # valor de accion\n",
    "        set.R_avg = dict()  # recompensa promedio\n",
    "        set.visits = dict() # contador de visitas al estado presente\n",
    "    \n",
    "    def start(set):\n",
    "        for s in range(set.env.n_states):\n",
    "            for a in range(set.env.n_actions):\n",
    "                set.Q_set[(s,a)] = []\n",
    "                set.R_avg[(s,a)] = np.zeros(set.env.reward_dim)\n",
    "                set.visits[(s,a)] = 0\n",
    "\n",
    "    def escalarizacion(set, s, pesos):\n",
    "        best_score = -np.inf\n",
    "        best_action = None\n",
    "        for a in range(set.env.n_actions):\n",
    "            for q in set.Q_set[(s,a)]:\n",
    "                score = np.dot(pesos, q)\n",
    "                if score > best_score:\n",
    "                    best_score = score\n",
    "                    best_action = a  \n",
    "        return best_action if best_action is not None else set.env.action_space.sample()   \n",
    "    \n",
    "    def actualizar(set, s, a, r, ss):\n",
    "        set.visits[(s,a)] = set.visits[(s,a)] + 1\n",
    "        n = set.visits[(s,a)]\n",
    "        set.R_avg[(s,a)] = set.R_avg[(s,a)] + (r - set.R_avg[(s,a)]) / n\n",
    "\n",
    "        # dicc de posibles sucesores con la act del Q_set\n",
    "        succeq = []\n",
    "        for a_succ in range(set.env.n_actions):\n",
    "            for q in set.Q_set[(ss, a_succ)]:\n",
    "                succeq.append(q)\n",
    "        prox = no_dominado(succeq)\n",
    "\n",
    "        #retorno\n",
    "        ppvector = [r + set.gamma * q for q in ppvector] if ppvector else [r]\n",
    "        set.Q_set[(s,a)] = no_dominado(set.Q_set[(s,a)] + ppvector)  \n",
    "\n",
    "    def entrenamiento(set, episodios, pesos):\n",
    "        set.start()\n",
    "        for ep in range(episodios):\n",
    "            s = set.env.reset()\n",
    "            done = False\n",
    "            while not done:\n",
    "                a = set.select_action(s, pesos)\n",
    "                ss, r, done, _ = set.env.step(a)\n",
    "                r_vec = np.array(r) \n",
    "                set.update(s, a, r_vec, ss)\n",
    "                s = ss"
   ]
  }
 ],
 "metadata": {
  "kernelspec": {
   "display_name": ".venv",
   "language": "python",
   "name": "python3"
  },
  "language_info": {
   "codemirror_mode": {
    "name": "ipython",
    "version": 3
   },
   "file_extension": ".py",
   "mimetype": "text/x-python",
   "name": "python",
   "nbconvert_exporter": "python",
   "pygments_lexer": "ipython3",
   "version": "3.11.9"
  }
 },
 "nbformat": 4,
 "nbformat_minor": 5
}
