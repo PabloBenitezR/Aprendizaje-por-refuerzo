
=== Experimento 1/10 ===
Episodio 100/1500, Recompensa: -200.00
Episodio 200/1500, Recompensa: -200.00
Episodio 300/1500, Recompensa: -200.00
Episodio 400/1500, Recompensa: -200.00
Episodio 500/1500, Recompensa: -200.00
Episodio 600/1500, Recompensa: -200.00
Episodio 700/1500, Recompensa: -200.00
Episodio 800/1500, Recompensa: -186.00
Episodio 900/1500, Recompensa: -200.00
Episodio 1000/1500, Recompensa: -200.00
Episodio 1100/1500, Recompensa: -200.00
Episodio 1200/1500, Recompensa: -200.00
Episodio 1300/1500, Recompensa: -200.00
Episodio 1400/1500, Recompensa: -200.00
Episodio 1500/1500, Recompensa: -190.00
Recompensa (mean ± std) en evaluación: -196.00 ± 8.61

=== Experimento 2/10 ===
Episodio 100/1500, Recompensa: -200.00
Episodio 200/1500, Recompensa: -200.00
Episodio 300/1500, Recompensa: -200.00
Episodio 400/1500, Recompensa: -200.00
Episodio 500/1500, Recompensa: -200.00
Episodio 600/1500, Recompensa: -200.00
Episodio 700/1500, Recompensa: -200.00
Episodio 800/1500, Recompensa: -200.00
Episodio 900/1500, Recompensa: -160.00
Episodio 1000/1500, Recompensa: -200.00
Episodio 1100/1500, Recompensa: -200.00
Episodio 1200/1500, Recompensa: -200.00
Episodio 1300/1500, Recompensa: -200.00
Episodio 1400/1500, Recompensa: -173.00
Episodio 1500/1500, Recompensa: -200.00
Recompensa (mean ± std) en evaluación: -200.00 ± 0.00

=== Experimento 3/10 ===
Episodio 100/1500, Recompensa: -200.00
Episodio 200/1500, Recompensa: -200.00
Episodio 300/1500, Recompensa: -200.00
Episodio 400/1500, Recompensa: -200.00
Episodio 500/1500, Recompensa: -200.00
Episodio 600/1500, Recompensa: -200.00
Episodio 700/1500, Recompensa: -165.00
Episodio 800/1500, Recompensa: -200.00
Episodio 900/1500, Recompensa: -200.00
Episodio 1000/1500, Recompensa: -200.00
Episodio 1100/1500, Recompensa: -200.00
Episodio 1200/1500, Recompensa: -189.00
Episodio 1300/1500, Recompensa: -186.00
Episodio 1400/1500, Recompensa: -200.00
Episodio 1500/1500, Recompensa: -158.00
Recompensa (mean ± std) en evaluación: -193.30 ± 13.40

=== Experimento 4/10 ===
Episodio 100/1500, Recompensa: -200.00
Episodio 200/1500, Recompensa: -200.00
Episodio 300/1500, Recompensa: -200.00
Episodio 400/1500, Recompensa: -200.00
Episodio 500/1500, Recompensa: -200.00
Episodio 600/1500, Recompensa: -200.00
Episodio 700/1500, Recompensa: -194.00
Episodio 800/1500, Recompensa: -200.00
Episodio 900/1500, Recompensa: -200.00
Episodio 1000/1500, Recompensa: -200.00
Episodio 1100/1500, Recompensa: -200.00
Episodio 1200/1500, Recompensa: -200.00
Episodio 1300/1500, Recompensa: -200.00
Episodio 1400/1500, Recompensa: -192.00
Episodio 1500/1500, Recompensa: -192.00
Recompensa (mean ± std) en evaluación: -186.90 ± 11.15

=== Experimento 5/10 ===
Episodio 100/1500, Recompensa: -200.00
Episodio 200/1500, Recompensa: -200.00
Episodio 300/1500, Recompensa: -200.00
Episodio 400/1500, Recompensa: -200.00
Episodio 500/1500, Recompensa: -200.00
Episodio 600/1500, Recompensa: -200.00
Episodio 700/1500, Recompensa: -200.00
Episodio 800/1500, Recompensa: -200.00
Episodio 900/1500, Recompensa: -200.00
Episodio 1000/1500, Recompensa: -200.00
Episodio 1100/1500, Recompensa: -200.00
Episodio 1200/1500, Recompensa: -200.00
Episodio 1300/1500, Recompensa: -200.00
Episodio 1400/1500, Recompensa: -200.00
Episodio 1500/1500, Recompensa: -200.00
Recompensa (mean ± std) en evaluación: -179.40 ± 15.98

=== Experimento 6/10 ===
Episodio 100/1500, Recompensa: -200.00
Episodio 200/1500, Recompensa: -200.00
Episodio 300/1500, Recompensa: -200.00
Episodio 400/1500, Recompensa: -168.00
Episodio 500/1500, Recompensa: -200.00
Episodio 600/1500, Recompensa: -200.00
Episodio 700/1500, Recompensa: -165.00
Episodio 800/1500, Recompensa: -200.00
Episodio 900/1500, Recompensa: -200.00
Episodio 1000/1500, Recompensa: -200.00
Episodio 1100/1500, Recompensa: -189.00
Episodio 1200/1500, Recompensa: -200.00
Episodio 1300/1500, Recompensa: -200.00
Episodio 1400/1500, Recompensa: -166.00
Episodio 1500/1500, Recompensa: -197.00
Recompensa (mean ± std) en evaluación: -189.30 ± 23.46

=== Experimento 7/10 ===
Episodio 100/1500, Recompensa: -200.00
Episodio 200/1500, Recompensa: -200.00
Episodio 300/1500, Recompensa: -200.00
Episodio 400/1500, Recompensa: -200.00
Episodio 500/1500, Recompensa: -198.00
Episodio 600/1500, Recompensa: -200.00
Episodio 700/1500, Recompensa: -200.00
Episodio 800/1500, Recompensa: -200.00
Episodio 900/1500, Recompensa: -200.00
Episodio 1000/1500, Recompensa: -199.00
Episodio 1100/1500, Recompensa: -200.00
Episodio 1200/1500, Recompensa: -200.00
Episodio 1300/1500, Recompensa: -200.00
Episodio 1400/1500, Recompensa: -200.00
Episodio 1500/1500, Recompensa: -200.00
Recompensa (mean ± std) en evaluación: -200.00 ± 0.00

=== Experimento 8/10 ===
Episodio 100/1500, Recompensa: -200.00
Episodio 200/1500, Recompensa: -200.00
Episodio 300/1500, Recompensa: -171.00
Episodio 400/1500, Recompensa: -200.00
Episodio 500/1500, Recompensa: -200.00
Episodio 600/1500, Recompensa: -200.00
Episodio 700/1500, Recompensa: -166.00
Episodio 800/1500, Recompensa: -200.00
Episodio 900/1500, Recompensa: -200.00
Episodio 1000/1500, Recompensa: -200.00
Episodio 1100/1500, Recompensa: -200.00
Episodio 1200/1500, Recompensa: -200.00
Episodio 1300/1500, Recompensa: -200.00
Episodio 1400/1500, Recompensa: -200.00
Episodio 1500/1500, Recompensa: -200.00
Recompensa (mean ± std) en evaluación: -187.30 ± 14.94

=== Experimento 9/10 ===
Episodio 100/1500, Recompensa: -200.00
Episodio 200/1500, Recompensa: -200.00
Episodio 300/1500, Recompensa: -200.00
Episodio 400/1500, Recompensa: -197.00
Episodio 500/1500, Recompensa: -200.00
Episodio 600/1500, Recompensa: -200.00
Episodio 700/1500, Recompensa: -200.00
Episodio 800/1500, Recompensa: -200.00
Episodio 900/1500, Recompensa: -200.00
Episodio 1000/1500, Recompensa: -200.00
Episodio 1100/1500, Recompensa: -200.00
Episodio 1200/1500, Recompensa: -184.00
Episodio 1300/1500, Recompensa: -200.00
Episodio 1400/1500, Recompensa: -200.00
Episodio 1500/1500, Recompensa: -166.00
Recompensa (mean ± std) en evaluación: -187.70 ± 13.85

=== Experimento 10/10 ===
Episodio 100/1500, Recompensa: -200.00
Episodio 200/1500, Recompensa: -200.00
Episodio 300/1500, Recompensa: -200.00
Episodio 400/1500, Recompensa: -193.00
Episodio 500/1500, Recompensa: -200.00
Episodio 600/1500, Recompensa: -200.00
Episodio 700/1500, Recompensa: -200.00
Episodio 800/1500, Recompensa: -200.00
Episodio 900/1500, Recompensa: -197.00
Episodio 1000/1500, Recompensa: -200.00
Episodio 1100/1500, Recompensa: -169.00
Episodio 1200/1500, Recompensa: -200.00
Episodio 1300/1500, Recompensa: -200.00
Episodio 1400/1500, Recompensa: -200.00
Episodio 1500/1500, Recompensa: -200.00
